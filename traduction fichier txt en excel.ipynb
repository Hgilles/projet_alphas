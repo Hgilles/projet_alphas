{
 "cells": [
  {
   "cell_type": "code",
   "execution_count": 11,
   "id": "2944e712",
   "metadata": {},
   "outputs": [],
   "source": [
    "import pandas as pd\n",
    "\n",
    "fon_path='meals.txt'\n",
    "dfon=pd.read_csv(fon_path, delimiter=',')\n",
    "excel_fon='meals.xlsx'\n",
    "dfon.to_excel(excel_fon, index=False)"
   ]
  },
  {
   "cell_type": "code",
   "execution_count": null,
   "id": "7322fbbc",
   "metadata": {},
   "outputs": [],
   "source": []
  }
 ],
 "metadata": {
  "kernelspec": {
   "display_name": "Python 3 (ipykernel)",
   "language": "python",
   "name": "python3"
  },
  "language_info": {
   "codemirror_mode": {
    "name": "ipython",
    "version": 3
   },
   "file_extension": ".py",
   "mimetype": "text/x-python",
   "name": "python",
   "nbconvert_exporter": "python",
   "pygments_lexer": "ipython3",
   "version": "3.9.13"
  }
 },
 "nbformat": 4,
 "nbformat_minor": 5
}
